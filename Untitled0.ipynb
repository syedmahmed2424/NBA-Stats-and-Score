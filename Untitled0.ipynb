{
  "nbformat": 4,
  "nbformat_minor": 0,
  "metadata": {
    "colab": {
      "name": "Untitled0.ipynb",
      "provenance": [],
      "authorship_tag": "ABX9TyOdpvqfUvYI5XgYaRf9Zogj",
      "include_colab_link": true
    },
    "kernelspec": {
      "name": "python3",
      "display_name": "Python 3"
    },
    "language_info": {
      "name": "python"
    }
  },
  "cells": [
    {
      "cell_type": "markdown",
      "metadata": {
        "id": "view-in-github",
        "colab_type": "text"
      },
      "source": [
        "<a href=\"https://colab.research.google.com/github/syedmahmed2424/NBA-Stats-and-Score/blob/main/Untitled0.ipynb\" target=\"_parent\"><img src=\"https://colab.research.google.com/assets/colab-badge.svg\" alt=\"Open In Colab\"/></a>"
      ]
    },
    {
      "cell_type": "code",
      "execution_count": 1,
      "metadata": {
        "colab": {
          "base_uri": "https://localhost:8080/"
        },
        "id": "uSGd1-uJCRpj",
        "outputId": "2fe388fe-8b7e-43a4-816d-cb1a0b9d7780"
      },
      "outputs": [
        {
          "output_type": "stream",
          "name": "stdout",
          "text": [
            "1.Atlanta - Hawks - -\n",
            "2.Boston - Celtics - -\n",
            "3.Cleveland - Cavaliers - -\n",
            "4.New Orleans - Pelicans - -\n",
            "5.Chicago - Bulls - -\n",
            "6.Dallas - Mavericks - -\n",
            "7.Denver - Nuggets - -\n",
            "8.Golden State - Warriors - -\n",
            "9.Houston - Rockets - -\n",
            "10.LA - Clippers - -\n",
            "11.Los Angeles - Lakers - -\n",
            "12.Miami - Heat - -\n",
            "13.Milwaukee - Bucks - -\n",
            "14.Minnesota - Timberwolves - -\n",
            "15.Brooklyn - Nets - -\n",
            "16.New York - Knicks - -\n",
            "17.Orlando - Magic - -\n",
            "18.Indiana - Pacers - -\n",
            "19.Philadelphia - 76ers - -\n",
            "20.Phoenix - Suns - -\n",
            "21.Portland - Trail Blazers - -\n",
            "22.Sacramento - Kings - -\n",
            "23.San Antonio - Spurs - -\n",
            "24.Oklahoma City - Thunder - -\n",
            "25.Toronto - Raptors - -\n",
            "26.Utah - Jazz - -\n",
            "27.Memphis - Grizzlies - -\n",
            "28.Washington - Wizards - -\n",
            "29.Detroit - Pistons - -\n",
            "30.Charlotte - Hornets - -\n"
          ]
        }
      ],
      "source": [
        "import json\n",
        "from requests import get\n",
        "from pprint import PrettyPrinter\n",
        "\n",
        "BASE_URL = \"https://data.nba.net\"\n",
        "ALL_JSON = \"/prod/v1/today.json\"\n",
        "\n",
        "printer = PrettyPrinter()\n",
        "\n",
        "\n",
        "def get_links():\n",
        "    data = get(BASE_URL + ALL_JSON).json()\n",
        "    # printer.pprint(data)\n",
        "\n",
        "    # extracting the links dictionary:\n",
        "    links = data[\"links\"]\n",
        "    # printer.pprint(links)\n",
        "    # extracting currentScoreboard link from the \"links\" dictionary:\n",
        "    return links\n",
        "\n",
        "\n",
        "def get_scoreboard():\n",
        "    scoreboard = get_links()[\"currentScoreboard\"]\n",
        "    games = get(BASE_URL + scoreboard).json()[\"games\"]\n",
        "    # printer.pprint(games.keys())  #keys() is only used for dictionaries & list objs doesn't have any attribute keys()\n",
        "    for game in games:\n",
        "        our_team = game[\"hTeam\"]  # printer.pprint(game.keys())\n",
        "        away_team = game[\"vTeam\"]  # break\n",
        "        clock = game[\"clock\"]\n",
        "        period = game[\"period\"]\n",
        "\n",
        "        print(\"---------------------------------------------------\")\n",
        "        print(f\"{our_team['triCode']} vs {away_team['triCode']}\")\n",
        "        print(f\"{our_team['score']} vs {away_team['score']}\")\n",
        "        print(f\" {clock} - Period: {period['current']}\")\n",
        "\n",
        "\n",
        "def get_stats():\n",
        "    stats = get_links()[\"leagueTeamStatsLeaders\"]\n",
        "    teams = get(BASE_URL + stats).json()[\"league\"][\"standard\"][\"regularSeason\"][\n",
        "        \"teams\"]  # printer.pprint(teams)#here teams is the list\n",
        "    # printer.pprint(teams[0].keys())  # here teams is the list\n",
        "    teams = list(filter(lambda x: x[\"name\"] != \"Team\", teams))\n",
        "    teams.sort(key=lambda x: x['ppg'][\n",
        "        'rank'])  # also write it as: teams.sort(key=lambda x:int(x['ppg']['rank'])), now it will be print on the basis of integer values like of ppg and rank\n",
        "    for i, team in enumerate(teams):\n",
        "        name = team[\"name\"]\n",
        "        nickname = team[\"nickname\"]\n",
        "        ppg = team[\"ppg\"]['avg']\n",
        "        print(f\"{i+1}.{name} - {nickname} - {ppg}\")\n",
        "\n",
        "\n",
        "get_stats()\n",
        "# get_scoreboard()\n"
      ]
    }
  ]
}